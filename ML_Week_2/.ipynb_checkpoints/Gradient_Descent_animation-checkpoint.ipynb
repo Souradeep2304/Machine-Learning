{
 "cells": [
  {
   "cell_type": "markdown",
   "metadata": {},
   "source": [
    "This demonstration is inspired by [this work](https://gist.github.com/peterroelants/679410641a15b715a8a36ec39388516f).\n",
    "\n",
    "With anaconda, you should have all the dependencies for the animation to work. But if it is not the case, you might want to install the following package, after opening your anaconda prompt:     \n",
    "`conda install -c conda-forge ffmpeg`"
   ]
  },
  {
   "cell_type": "markdown",
   "metadata": {},
   "source": [
    "# Helper functions"
   ]
  },
  {
   "cell_type": "code",
   "execution_count": 1,
   "metadata": {},
   "outputs": [
    {
     "ename": "ModuleNotFoundError",
     "evalue": "No module named 'seaborn'",
     "output_type": "error",
     "traceback": [
      "\u001b[1;31m---------------------------------------------------------------------------\u001b[0m",
      "\u001b[1;31mModuleNotFoundError\u001b[0m                       Traceback (most recent call last)",
      "\u001b[1;32m<ipython-input-1-f3eeb1c5fb83>\u001b[0m in \u001b[0;36m<module>\u001b[1;34m\u001b[0m\n\u001b[0;32m      4\u001b[0m \u001b[1;32mimport\u001b[0m \u001b[0mnumpy\u001b[0m  \u001b[1;31m# Matrix and vector computation package\u001b[0m\u001b[1;33m\u001b[0m\u001b[0m\n\u001b[0;32m      5\u001b[0m \u001b[1;32mimport\u001b[0m \u001b[0mmatplotlib\u001b[0m\u001b[1;33m.\u001b[0m\u001b[0mpyplot\u001b[0m \u001b[1;32mas\u001b[0m \u001b[0mplt\u001b[0m  \u001b[1;31m# Plotting library\u001b[0m\u001b[1;33m\u001b[0m\u001b[0m\n\u001b[1;32m----> 6\u001b[1;33m \u001b[1;32mimport\u001b[0m \u001b[0mseaborn\u001b[0m\u001b[1;33m\u001b[0m\u001b[0m\n\u001b[0m\u001b[0;32m      7\u001b[0m \u001b[1;31m# Allow matplotlib to plot inside this notebook\u001b[0m\u001b[1;33m\u001b[0m\u001b[1;33m\u001b[0m\u001b[0m\n\u001b[0;32m      8\u001b[0m \u001b[0mget_ipython\u001b[0m\u001b[1;33m(\u001b[0m\u001b[1;33m)\u001b[0m\u001b[1;33m.\u001b[0m\u001b[0mrun_line_magic\u001b[0m\u001b[1;33m(\u001b[0m\u001b[1;34m'matplotlib'\u001b[0m\u001b[1;33m,\u001b[0m \u001b[1;34m'inline'\u001b[0m\u001b[1;33m)\u001b[0m\u001b[1;33m\u001b[0m\u001b[0m\n",
      "\u001b[1;31mModuleNotFoundError\u001b[0m: No module named 'seaborn'"
     ]
    }
   ],
   "source": [
    "from __future__ import division, print_function, absolute_import, unicode_literals\n",
    "\n",
    "# Python imports\n",
    "import numpy  # Matrix and vector computation package\n",
    "import matplotlib.pyplot as plt  # Plotting library\n",
    "import seaborn\n",
    "# Allow matplotlib to plot inside this notebook\n",
    "%matplotlib inline\n",
    "# Set the seed of the numpy random number generator so that the tutorial is reproducable\n",
    "numpy.random.seed(seed=1)\n",
    "\n",
    "from matplotlib import animation, rc\n",
    "from IPython.display import HTML, Image\n",
    "\n",
    "# equivalent to rcParams['animation.html'] = 'html5'\n",
    "rc('animation', html='html5')"
   ]
  },
  {
   "cell_type": "code",
   "execution_count": null,
   "metadata": {},
   "outputs": [],
   "source": [
    "# Define the vector of input samples as x, with 20 values sampled from a uniform distribution\n",
    "# between 0 and 1\n",
    "x = numpy.random.uniform(0, 1, 20)\n",
    "\n",
    "# Generate the target values t from x with small gaussian noise so the estimation won't\n",
    "# be perfect.\n",
    "# Define a function f that represents the line that generates t without noise\n",
    "def f(x): return x * 2\n",
    "\n",
    "# Create the targets t with some gaussian noise\n",
    "noise_variance = 0.2  # Variance of the gaussian noise\n",
    "# Gaussian noise error for each sample in x\n",
    "noise = numpy.random.randn(x.shape[0]) * noise_variance\n",
    "# Create targets t\n",
    "t = f(x) + noise"
   ]
  },
  {
   "cell_type": "code",
   "execution_count": null,
   "metadata": {},
   "outputs": [],
   "source": [
    "# Plot the target t versus the input x\n",
    "plt.plot(x, t, 'bo', label='target: y')\n",
    "plt.xlabel('input: $x$', fontsize=15)\n",
    "plt.ylabel('target: $y$', fontsize=15)\n",
    "plt.ylim([0,2])\n",
    "plt.xlim([0,1])\n",
    "plt.title('Labelled data', fontsize=18)\n",
    "plt.legend(loc=2)\n",
    "plt.show()"
   ]
  },
  {
   "cell_type": "code",
   "execution_count": null,
   "metadata": {},
   "outputs": [],
   "source": [
    "# Define the neural network function y = x * w\n",
    "def h_theta(x, w): return x * w\n",
    "\n",
    "# Define the cost function\n",
    "def cost(y, y_hat): return ((y_hat - y)**2).sum()"
   ]
  },
  {
   "cell_type": "code",
   "execution_count": null,
   "metadata": {},
   "outputs": [],
   "source": [
    "# Plot the cost vs the given weight w\n",
    "\n",
    "# Define a vector of weights for which we want to plot the cost\n",
    "ws = numpy.linspace(0, 4, num=100)  # weight values\n",
    "cost_ws = numpy.vectorize(lambda w: cost(h_theta(x, w) , t))(ws)  # cost for each weight in ws\n",
    "\n",
    "# Plot\n",
    "plt.plot(ws, cost_ws, 'r-', label='cost')\n",
    "plt.ylim([0,14])\n",
    "plt.xlim([0,4])\n",
    "plt.xlabel('parameter: $w$', fontsize=15)\n",
    "plt.ylabel('cost: $\\sum (y-\\^{y})^2$', fontsize=15)\n",
    "plt.title('Cost function', fontsize=18)\n",
    "plt.legend(loc=2)\n",
    "plt.show()"
   ]
  },
  {
   "cell_type": "code",
   "execution_count": null,
   "metadata": {},
   "outputs": [],
   "source": [
    "# Animation functions\n",
    "# Uses the Matplotlib animation module: http://matplotlib.org/api/animation_api.html\n",
    "# More examples: http://matplotlib.org/examples/animation/\n",
    "\n",
    "def init_fig():\n",
    "    \"\"\"Initialise figure\"\"\"\n",
    "    fig, (ax1, ax2) = plt.subplots(1, 2, figsize=(12,5))\n",
    "    # Line vs data plot\n",
    "    # Plot the fitted line agains the target line\n",
    "    # Plot the target t versus the input x\n",
    "    ax2.plot(x, t, 'bo', label='target: y')\n",
    "    ax2.set_xlim([0, 1])\n",
    "    ax2.set_ylim([0, 2])\n",
    "    ax2.set_xlabel('input: $x$', fontsize=15)\n",
    "    ax2.set_ylabel('target: $y$', fontsize=15)\n",
    "    ax2.yaxis.set_label_position('right')\n",
    "    ax2.set_title('Labelled data & model output', fontsize=18)\n",
    "    line2, = ax2.plot([], [], 'k-', label='fitted line: $y=x*w$')\n",
    "    ax2.legend(loc=2)\n",
    "    # Cost function plot\n",
    "    ax1.plot(ws, cost_ws, 'r-', label='cost')\n",
    "    ax1.set_ylim([0, 14])\n",
    "    ax1.set_xlim([0, 4])\n",
    "    ax1.set_xlabel('parameter: $w$', fontsize=15)\n",
    "    ax1.set_ylabel('cost: $\\sum (y-\\^{y})^2$', fontsize=15)\n",
    "    cost_text = ax1.set_title('Cost at step {}'.format(0), fontsize=18)\n",
    "    line1, = ax1.plot([], [], 'k:', label='derivative at $w$')\n",
    "    pc_dots, = ax1.plot([], [], 'ko')\n",
    "    ax1.legend(loc=2)\n",
    "    return fig, ax1, ax2, line1, line2, pc_dots, cost_text\n",
    "\n",
    "\n",
    "def get_anim(fig, ax1, ax2, line1, line2, pc_dots, cost_text, weights):\n",
    "    \"\"\"Return animation function.\"\"\"\n",
    "    xs = numpy.linspace(0, 4, num=100)  # weight values\n",
    "    #(w, dw, cost)\n",
    "    def anim(i):\n",
    "        \"\"\"Animate step i\"\"\"\n",
    "        if i == 0:\n",
    "            return [line1, line2, pc_dots, cost_text]\n",
    "        (w, dw, cost) = weights[i-1]\n",
    "        cost_text.set_text('Cost at step {} = {:.3f}'.format(i, cost))\n",
    "        ws, _, cs = zip(*weights[0:i])\n",
    "        pc_dots.set_xdata(ws)\n",
    "        pc_dots.set_ydata(cs)\n",
    "        abline_values = [dw * (x-w) + cost for x in xs]\n",
    "        line1.set_xdata(xs)\n",
    "        line1.set_ydata(abline_values)\n",
    "        # Plot fit\n",
    "        # plot the fitted line\n",
    "        line2.set_xdata([0, 1])\n",
    "        line2.set_ydata([0*w, 1*w])\n",
    "        ax2.legend(loc=2)\n",
    "        return [line1, line2, pc_dots, cost_text]\n",
    "    return anim"
   ]
  },
  {
   "cell_type": "code",
   "execution_count": null,
   "metadata": {},
   "outputs": [],
   "source": [
    "# define the gradient function. Remember that y = h_theta(x, w) = x * w\n",
    "def gradient(w, x, t): \n",
    "    return 2 * x * (h_theta(x, w) - t)\n",
    "\n",
    "# define the update function delta w\n",
    "def delta_w(w_k, x, t, learning_rate):\n",
    "    return learning_rate * gradient(w_k, x, t).sum()\n",
    "\n",
    "# Set the initial weight parameter\n",
    "#w = 0.3\n",
    "# Set the learning rate\n",
    "#learning_rate = 0.05\n",
    "\n",
    "# Start performing the gradient descent updates, and print the weights and cost:\n",
    "def perform_gradient(learning_rate = 0.05, nb_of_iterations = 11, w0 = 0.3):\n",
    "    #nb_of_iterations = 11  # number of gradient descent updates\n",
    "    w = w0\n",
    "    w_cost = [(w, cost(h_theta(x, w), t))] # List to store the weight,costs values\n",
    "    weights = [(w, gradient(w, x, t).sum(), cost(h_theta(x, w), t))]\n",
    "    for i in range(nb_of_iterations):\n",
    "        dw = delta_w(w, x, t, learning_rate)  # Get the delta w update\n",
    "        w = w - dw  # Update the current weight parameter\n",
    "        gw = gradient(w, x, t).sum()\n",
    "        c = cost(h_theta(x, w), t)\n",
    "        w_cost.append((w, c))  # Add weight,cost to list\n",
    "        weights.append((w, gw, c))\n",
    "    return weights"
   ]
  },
  {
   "cell_type": "code",
   "execution_count": null,
   "metadata": {},
   "outputs": [],
   "source": [
    "weights = perform_gradient(learning_rate = 0.05, nb_of_iterations = 11, w0 = 0.3)\n",
    "def perform_anim(learning_rate = 0.05, nb_of_iterations = 20, w0 = 0.3):\n",
    "# Create animation (uses ffmpeg)\n",
    "    weights = perform_gradient(learning_rate = learning_rate, nb_of_iterations = nb_of_iterations, w0 = w0)\n",
    "    fig, ax1, ax2, line1, line2, pc_dots, cost_text = init_fig()\n",
    "    animate = get_anim(fig, ax1, ax2, line1, line2, pc_dots, cost_text, weights)\n",
    "\n",
    "    anim = animation.FuncAnimation(fig, animate, frames=len(weights)+1, interval=800, blit=True)\n",
    "    return anim"
   ]
  },
  {
   "cell_type": "markdown",
   "metadata": {},
   "source": [
    "# Animation\n",
    "\n",
    "Play around with the following parametrs:\n",
    "* learning_rate\n",
    "* nb_of_iterations"
   ]
  },
  {
   "cell_type": "code",
   "execution_count": null,
   "metadata": {},
   "outputs": [],
   "source": [
    "perform_anim(learning_rate = 0.05, nb_of_iterations = 20, w0 = 0.3)"
   ]
  },
  {
   "cell_type": "markdown",
   "metadata": {},
   "source": [
    "Let's see what happens if you take a bigger a learning rate"
   ]
  },
  {
   "cell_type": "code",
   "execution_count": null,
   "metadata": {},
   "outputs": [],
   "source": [
    "perform_anim(learning_rate = 0.25, nb_of_iterations = 20, w0 = 0.3)"
   ]
  },
  {
   "cell_type": "markdown",
   "metadata": {},
   "source": [
    "Let's increase the number of iterations"
   ]
  },
  {
   "cell_type": "code",
   "execution_count": null,
   "metadata": {},
   "outputs": [],
   "source": [
    "perform_anim(learning_rate = 0.25, nb_of_iterations = 60, w0 = 0.3)"
   ]
  },
  {
   "cell_type": "code",
   "execution_count": null,
   "metadata": {},
   "outputs": [],
   "source": []
  }
 ],
 "metadata": {
  "kernelspec": {
   "display_name": "Python 3",
   "language": "python",
   "name": "python3"
  },
  "language_info": {
   "codemirror_mode": {
    "name": "ipython",
    "version": 3
   },
   "file_extension": ".py",
   "mimetype": "text/x-python",
   "name": "python",
   "nbconvert_exporter": "python",
   "pygments_lexer": "ipython3",
   "version": "3.6.5"
  },
  "widgets": {
   "state": {},
   "version": "1.1.2"
  }
 },
 "nbformat": 4,
 "nbformat_minor": 2
}
