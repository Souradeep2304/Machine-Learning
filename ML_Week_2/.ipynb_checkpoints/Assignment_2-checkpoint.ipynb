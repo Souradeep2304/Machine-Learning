{
 "cells": [
  {
   "cell_type": "markdown",
   "metadata": {},
   "source": [
    "# Assignment 2"
   ]
  },
  {
   "cell_type": "markdown",
   "metadata": {},
   "source": [
    "In this Assignment, you will explore the **FIFA 19** dataset, which contains detailed attributes for every player registered in the latest edition of FIFA 19 database.    \n",
    "It was scrapped from this [website](https://sofifa.com/), and you can find the source code [here](https://github.com/amanthedorkknight/fifa18-all-player-statistics/tree/master/2019).\n",
    "\n",
    "Your goal is to find out how the `Overall` score by player is calculated\n",
    "\n",
    "There are 2 main parts:\n",
    "\n",
    "* Data Import & Cleaning, the output of this part is provided in the csv file `Assignment_2_data_cleaned`, **so you do not need to have everything right in this part to do the second one**\n",
    "* Modeling with the cleaned data"
   ]
  },
  {
   "cell_type": "markdown",
   "metadata": {},
   "source": [
    "In the notebook, there will be cells in the form `assert condition` like the next one. They are used to check if an answer is correct.  \n",
    "Execute the next one and you will get no errors"
   ]
  },
  {
   "cell_type": "code",
   "execution_count": 54,
   "metadata": {},
   "outputs": [],
   "source": [
    "assert 3 < 5"
   ]
  },
  {
   "cell_type": "markdown",
   "metadata": {},
   "source": [
    "Execute the next one and you will get an error"
   ]
  },
  {
   "cell_type": "code",
   "execution_count": 55,
   "metadata": {},
   "outputs": [],
   "source": [
    "# assert 3 > 5"
   ]
  },
  {
   "cell_type": "markdown",
   "metadata": {},
   "source": [
    "# Data Import"
   ]
  },
  {
   "cell_type": "code",
   "execution_count": 56,
   "metadata": {},
   "outputs": [],
   "source": [
    "import pandas as pd\n",
    "import numpy as np\n",
    "import matplotlib.pyplot as plt\n",
    "%matplotlib inline"
   ]
  },
  {
   "cell_type": "markdown",
   "metadata": {},
   "source": [
    "1.1. Load the csv file `data.csv` into a dataframe called `df` and print its shape. (Set the right parameters when reading the csv file)       "
   ]
  },
  {
   "cell_type": "code",
   "execution_count": 57,
   "metadata": {},
   "outputs": [
    {
     "name": "stdout",
     "output_type": "stream",
     "text": [
      "88\n",
      "(18207, 88)\n"
     ]
    }
   ],
   "source": [
    "df=pd.read_csv(\"Assignment_2_data.csv\", index_col=0)\n",
    "print(len(df.columns))\n",
    "print(df.shape)"
   ]
  },
  {
   "cell_type": "code",
   "execution_count": 58,
   "metadata": {},
   "outputs": [],
   "source": [
    "# check if your answer is correct\n",
    "assert df.shape == (18207, 88)\n",
    "#the above program was not correctn when (18207,88) was run so we corrected it."
   ]
  },
  {
   "cell_type": "markdown",
   "metadata": {},
   "source": [
    "1.2. print the head of `df`"
   ]
  },
  {
   "cell_type": "code",
   "execution_count": 59,
   "metadata": {},
   "outputs": [
    {
     "name": "stdout",
     "output_type": "stream",
     "text": [
      "       ID               Name  Age  \\\n",
      "0  158023           L. Messi   31   \n",
      "1   20801  Cristiano Ronaldo   33   \n",
      "2  190871          Neymar Jr   26   \n",
      "3  193080             De Gea   27   \n",
      "4  192985       K. De Bruyne   27   \n",
      "5  183277          E. Hazard   27   \n",
      "6  177003          L. Modrić   32   \n",
      "7  176580          L. Suárez   31   \n",
      "8  155862       Sergio Ramos   32   \n",
      "9  200389           J. Oblak   25   \n",
      "\n",
      "                                            Photo Nationality  \\\n",
      "0  https://cdn.sofifa.org/players/4/19/158023.png   Argentina   \n",
      "1   https://cdn.sofifa.org/players/4/19/20801.png    Portugal   \n",
      "2  https://cdn.sofifa.org/players/4/19/190871.png      Brazil   \n",
      "3  https://cdn.sofifa.org/players/4/19/193080.png       Spain   \n",
      "4  https://cdn.sofifa.org/players/4/19/192985.png     Belgium   \n",
      "5  https://cdn.sofifa.org/players/4/19/183277.png     Belgium   \n",
      "6  https://cdn.sofifa.org/players/4/19/177003.png     Croatia   \n",
      "7  https://cdn.sofifa.org/players/4/19/176580.png     Uruguay   \n",
      "8  https://cdn.sofifa.org/players/4/19/155862.png       Spain   \n",
      "9  https://cdn.sofifa.org/players/4/19/200389.png    Slovenia   \n",
      "\n",
      "                                  Flag  Overall  Potential  \\\n",
      "0  https://cdn.sofifa.org/flags/52.png       94         94   \n",
      "1  https://cdn.sofifa.org/flags/38.png       94         94   \n",
      "2  https://cdn.sofifa.org/flags/54.png       92         93   \n",
      "3  https://cdn.sofifa.org/flags/45.png       91         93   \n",
      "4   https://cdn.sofifa.org/flags/7.png       91         92   \n",
      "5   https://cdn.sofifa.org/flags/7.png       91         91   \n",
      "6  https://cdn.sofifa.org/flags/10.png       91         91   \n",
      "7  https://cdn.sofifa.org/flags/60.png       91         91   \n",
      "8  https://cdn.sofifa.org/flags/45.png       91         91   \n",
      "9  https://cdn.sofifa.org/flags/44.png       90         93   \n",
      "\n",
      "                  Club                                     Club Logo  \\\n",
      "0         FC Barcelona  https://cdn.sofifa.org/teams/2/light/241.png   \n",
      "1             Juventus   https://cdn.sofifa.org/teams/2/light/45.png   \n",
      "2  Paris Saint-Germain   https://cdn.sofifa.org/teams/2/light/73.png   \n",
      "3    Manchester United   https://cdn.sofifa.org/teams/2/light/11.png   \n",
      "4      Manchester City   https://cdn.sofifa.org/teams/2/light/10.png   \n",
      "5              Chelsea    https://cdn.sofifa.org/teams/2/light/5.png   \n",
      "6          Real Madrid  https://cdn.sofifa.org/teams/2/light/243.png   \n",
      "7         FC Barcelona  https://cdn.sofifa.org/teams/2/light/241.png   \n",
      "8          Real Madrid  https://cdn.sofifa.org/teams/2/light/243.png   \n",
      "9      Atlético Madrid  https://cdn.sofifa.org/teams/2/light/240.png   \n",
      "\n",
      "       ...       Composure Marking  StandingTackle SlidingTackle  GKDiving  \\\n",
      "0      ...            96.0    33.0            28.0          26.0       6.0   \n",
      "1      ...            95.0    28.0            31.0          23.0       7.0   \n",
      "2      ...            94.0    27.0            24.0          33.0       9.0   \n",
      "3      ...            68.0    15.0            21.0          13.0      90.0   \n",
      "4      ...            88.0    68.0            58.0          51.0      15.0   \n",
      "5      ...            91.0    34.0            27.0          22.0      11.0   \n",
      "6      ...            84.0    60.0            76.0          73.0      13.0   \n",
      "7      ...            85.0    62.0            45.0          38.0      27.0   \n",
      "8      ...            82.0    87.0            92.0          91.0      11.0   \n",
      "9      ...            70.0    27.0            12.0          18.0      86.0   \n",
      "\n",
      "   GKHandling  GKKicking GKPositioning GKReflexes Release Clause  \n",
      "0        11.0       15.0          14.0        8.0        €226.5M  \n",
      "1        11.0       15.0          14.0       11.0        €127.1M  \n",
      "2         9.0       15.0          15.0       11.0        €228.1M  \n",
      "3        85.0       87.0          88.0       94.0        €138.6M  \n",
      "4        13.0        5.0          10.0       13.0        €196.4M  \n",
      "5        12.0        6.0           8.0        8.0        €172.1M  \n",
      "6         9.0        7.0          14.0        9.0        €137.4M  \n",
      "7        25.0       31.0          33.0       37.0          €164M  \n",
      "8         8.0        9.0           7.0       11.0        €104.6M  \n",
      "9        92.0       78.0          88.0       89.0        €144.5M  \n",
      "\n",
      "[10 rows x 88 columns]\n"
     ]
    }
   ],
   "source": [
    "print(df.head(10))"
   ]
  },
  {
   "cell_type": "markdown",
   "metadata": {},
   "source": [
    "1.3. Print how many columns that are in df columns types"
   ]
  },
  {
   "cell_type": "code",
   "execution_count": 60,
   "metadata": {},
   "outputs": [
    {
     "name": "stdout",
     "output_type": "stream",
     "text": [
      "{dtype('int64'): Index(['ID', 'Age', 'Overall', 'Potential', 'Special'], dtype='object'), dtype('float64'): Index(['International Reputation', 'Weak Foot', 'Skill Moves', 'Jersey Number',\n",
      "       'Crossing', 'Finishing', 'HeadingAccuracy', 'ShortPassing', 'Volleys',\n",
      "       'Dribbling', 'Curve', 'FKAccuracy', 'LongPassing', 'BallControl',\n",
      "       'Acceleration', 'SprintSpeed', 'Agility', 'Reactions', 'Balance',\n",
      "       'ShotPower', 'Jumping', 'Stamina', 'Strength', 'LongShots',\n",
      "       'Aggression', 'Interceptions', 'Positioning', 'Vision', 'Penalties',\n",
      "       'Composure', 'Marking', 'StandingTackle', 'SlidingTackle', 'GKDiving',\n",
      "       'GKHandling', 'GKKicking', 'GKPositioning', 'GKReflexes'],\n",
      "      dtype='object'), dtype('O'): Index(['Name', 'Photo', 'Nationality', 'Flag', 'Club', 'Club Logo', 'Value',\n",
      "       'Wage', 'Preferred Foot', 'Work Rate', 'Body Type', 'Real Face',\n",
      "       'Position', 'Joined', 'Loaned From', 'Contract Valid Until', 'Height',\n",
      "       'Weight', 'LS', 'ST', 'RS', 'LW', 'LF', 'CF', 'RF', 'RW', 'LAM', 'CAM',\n",
      "       'RAM', 'LM', 'LCM', 'CM', 'RCM', 'RM', 'LWB', 'LDM', 'CDM', 'RDM',\n",
      "       'RWB', 'LB', 'LCB', 'CB', 'RCB', 'RB', 'Release Clause'],\n",
      "      dtype='object')}\n",
      "3\n"
     ]
    }
   ],
   "source": [
    "  g = df.columns.to_series().groupby(df.dtypes).groups\n",
    "  print(g)  \n",
    "  print(len(g))\n",
    " #the above syntax shows there are 3 coloumn data types"
   ]
  },
  {
   "cell_type": "markdown",
   "metadata": {},
   "source": [
    "1.4. `to_drop` is a list containing columns that are not useful for modeling, remove them and print the new shape of `df`"
   ]
  },
  {
   "cell_type": "code",
   "execution_count": 61,
   "metadata": {},
   "outputs": [],
   "source": [
    "to_drop =['ID', 'Name', 'Photo','Nationality', 'Flag','Club','Club Logo', 'Real Face', 'Joined', 'Loaned From', 'Contract Valid Until']\n",
    "# your code here\n",
    "df=df.drop(to_drop,axis=1)\n"
   ]
  },
  {
   "cell_type": "code",
   "execution_count": 62,
   "metadata": {},
   "outputs": [],
   "source": [
    "# check if your answer is correct\n",
    "assert df.shape == (18207, 77)"
   ]
  },
  {
   "cell_type": "markdown",
   "metadata": {},
   "source": [
    "# Data Cleaning"
   ]
  },
  {
   "cell_type": "markdown",
   "metadata": {},
   "source": [
    "## Handling missing values"
   ]
  },
  {
   "cell_type": "markdown",
   "metadata": {},
   "source": [
    "2.1. Build a dataframe called `missing` which has the following format:\n",
    "\n",
    "* `pct` is the percentage of missing values, **takes values between `0` and `100`**\n",
    "* the index is the column names\n",
    "\n",
    "|     | pct |\n",
    "|-----|-----|\n",
    "|......|.....|\n",
    "|Strength |0.263635|\n",
    "|.....|.....|\n",
    "\n"
   ]
  },
  {
   "cell_type": "code",
   "execution_count": 63,
   "metadata": {},
   "outputs": [],
   "source": [
    "\n",
    "def pct(df):\n",
    "    tot=df.isnull().sum()\n",
    "    l=len(df)\n",
    "    return tot/l\n",
    "\n",
    "missing=pd.DataFrame({'pct':[],'column':[]})\n",
    "missing.set_index('column')\n",
    "\n",
    "missing['pct'].between(0,100,inclusive=True)\n",
    "\n",
    "for col in df:\n",
    "    missing=missing.append({'pct':pct(df[col]), 'column':col}, ignore_index=True)\n",
    "    \n",
    "    \n",
    "    \n",
    "   \n",
    "                      \n"
   ]
  },
  {
   "cell_type": "markdown",
   "metadata": {},
   "source": [
    "2.2. Remove from `missing`, rows with `pct`= 0   \n",
    "sort `missing` in ascending order of `pct` and print its head"
   ]
  },
  {
   "cell_type": "code",
   "execution_count": 64,
   "metadata": {},
   "outputs": [
    {
     "name": "stdout",
     "output_type": "stream",
     "text": [
      "         pct          column\n",
      "6   0.002636  Preferred Foot\n",
      "60  0.002636        Strength\n",
      "59  0.002636         Stamina\n",
      "58  0.002636         Jumping\n",
      "57  0.002636       ShotPower\n"
     ]
    }
   ],
   "source": [
    "missing=missing[missing.pct != 0]\n",
    "missing.sort_values([\"pct\"], axis=0, ascending=True, inplace=True) \n",
    "\n",
    "print(missing.head())\n"
   ]
  },
  {
   "cell_type": "markdown",
   "metadata": {},
   "source": [
    "2.3. Now, let's fill missing values where the % of missing is lower than 1 (1%).   \n",
    "First identify these columns in a list named `cols_to_fill`"
   ]
  },
  {
   "cell_type": "code",
   "execution_count": 65,
   "metadata": {},
   "outputs": [
    {
     "name": "stdout",
     "output_type": "stream",
     "text": [
      "44 <class 'list'>\n"
     ]
    }
   ],
   "source": [
    "cols_to_fill=list()\n",
    "temp=missing.loc[missing['pct'] < 0.01 ]\n",
    "cols_to_fill=temp['column'].tolist()\n",
    "print(len(cols_to_fill), type(cols_to_fill))"
   ]
  },
  {
   "cell_type": "code",
   "execution_count": 66,
   "metadata": {},
   "outputs": [
    {
     "name": "stdout",
     "output_type": "stream",
     "text": [
      "['Preferred Foot', 'Strength', 'Stamina', 'Jumping', 'ShotPower', 'Balance', 'Reactions', 'Agility', 'SprintSpeed', 'LongShots', 'Acceleration', 'LongPassing', 'GKReflexes', 'Crossing', 'Finishing', 'HeadingAccuracy', 'ShortPassing', 'Volleys', 'Dribbling', 'BallControl', 'Aggression', 'Interceptions', 'Positioning', 'International Reputation', 'Weak Foot', 'Skill Moves', 'Work Rate', 'Body Type', 'Height', 'Weight', 'Curve', 'GKPositioning', 'GKHandling', 'GKDiving', 'SlidingTackle', 'StandingTackle', 'Marking', 'Composure', 'Penalties', 'Vision', 'GKKicking', 'FKAccuracy', 'Jersey Number', 'Position']\n"
     ]
    }
   ],
   "source": [
    "# check if your answer is correct\n",
    "assert len(cols_to_fill) == 44; assert isinstance(cols_to_fill, list)\n",
    "print(cols_to_fill)"
   ]
  },
  {
   "cell_type": "markdown",
   "metadata": {},
   "source": [
    "2.4. define a function (`fill_nas_by_type`) to fill null values by column type:\n",
    "\n",
    "* if a column type is `Object`, fill it with the **most frequent value**\n",
    "* otherwise, fill it with the **median value**"
   ]
  },
  {
   "cell_type": "code",
   "execution_count": 67,
   "metadata": {
    "code_folding": []
   },
   "outputs": [],
   "source": [
    "def fill_nas_by_type(df, col_name):\n",
    "    \"\"\"Fill null values in df according to col_name type\n",
    "    \n",
    "    Parameters\n",
    "    ----------\n",
    "    df : dataframe, (default=None)\n",
    "        input dataframe\n",
    "    col_name : str, (default=None)\n",
    "        column with null values to fill\n",
    "        \n",
    "    Returns\n",
    "    -------\n",
    "    df with filled values in col_name\n",
    "    \"\"\"\n",
    "    \n",
    "\n",
    "    if(df[col_name].dtype == object):\n",
    "        df[col_name]=df[col_name].fillna(df[col_name].value_counts().argmax())\n",
    "       \n",
    "    else:\n",
    "        df[col_name]=df[col_name].fillna(df[col_name].mean())\n",
    "    return df\n",
    "\n"
   ]
  },
  {
   "cell_type": "markdown",
   "metadata": {},
   "source": [
    "Loop through `cols_to_fill` and apply the defined function `fill_nas_by_type` to fill null values"
   ]
  },
  {
   "cell_type": "code",
   "execution_count": 68,
   "metadata": {},
   "outputs": [
    {
     "name": "stderr",
     "output_type": "stream",
     "text": [
      "C:\\Users\\soura\\Anaconda3\\lib\\site-packages\\ipykernel_launcher.py:18: FutureWarning: 'argmax' is deprecated, use 'idxmax' instead. The behavior of 'argmax'\n",
      "will be corrected to return the positional maximum in the future.\n",
      "Use 'series.values.argmax' to get the position of the maximum now.\n"
     ]
    }
   ],
   "source": [
    "for col in cols_to_fill:\n",
    "    fill_nas_by_type(df, col)\n",
    "\n",
    "\n"
   ]
  },
  {
   "cell_type": "code",
   "execution_count": 69,
   "metadata": {},
   "outputs": [],
   "source": [
    "# check if your answer is correct\n",
    "assert df[cols_to_fill].isnull().sum().sum() == 0"
   ]
  },
  {
   "cell_type": "markdown",
   "metadata": {},
   "source": [
    "For the remaining missing values, let's just remove them.    \n",
    "Print the shape of `df` before and after removing any rows with missing observations"
   ]
  },
  {
   "cell_type": "code",
   "execution_count": 70,
   "metadata": {},
   "outputs": [],
   "source": [
    "df=df.dropna()\n"
   ]
  },
  {
   "cell_type": "code",
   "execution_count": 71,
   "metadata": {},
   "outputs": [],
   "source": [
    "# check if your answer is correct\n",
    "assert df.shape == (14742, 77); assert df.isnull().sum().sum() == 0"
   ]
  },
  {
   "cell_type": "markdown",
   "metadata": {
    "heading_collapsed": true
   },
   "source": [
    "## Correct some columns format"
   ]
  },
  {
   "cell_type": "markdown",
   "metadata": {
    "hidden": true
   },
   "source": [
    "### Monetary columns"
   ]
  },
  {
   "cell_type": "code",
   "execution_count": 72,
   "metadata": {
    "hidden": true
   },
   "outputs": [
    {
     "data": {
      "text/html": [
       "<div>\n",
       "<style scoped>\n",
       "    .dataframe tbody tr th:only-of-type {\n",
       "        vertical-align: middle;\n",
       "    }\n",
       "\n",
       "    .dataframe tbody tr th {\n",
       "        vertical-align: top;\n",
       "    }\n",
       "\n",
       "    .dataframe thead th {\n",
       "        text-align: right;\n",
       "    }\n",
       "</style>\n",
       "<table border=\"1\" class=\"dataframe\">\n",
       "  <thead>\n",
       "    <tr style=\"text-align: right;\">\n",
       "      <th></th>\n",
       "      <th>Value</th>\n",
       "      <th>Wage</th>\n",
       "      <th>Release Clause</th>\n",
       "    </tr>\n",
       "  </thead>\n",
       "  <tbody>\n",
       "    <tr>\n",
       "      <th>0</th>\n",
       "      <td>€110.5M</td>\n",
       "      <td>€565K</td>\n",
       "      <td>€226.5M</td>\n",
       "    </tr>\n",
       "    <tr>\n",
       "      <th>1</th>\n",
       "      <td>€77M</td>\n",
       "      <td>€405K</td>\n",
       "      <td>€127.1M</td>\n",
       "    </tr>\n",
       "    <tr>\n",
       "      <th>2</th>\n",
       "      <td>€118.5M</td>\n",
       "      <td>€290K</td>\n",
       "      <td>€228.1M</td>\n",
       "    </tr>\n",
       "    <tr>\n",
       "      <th>5</th>\n",
       "      <td>€93M</td>\n",
       "      <td>€340K</td>\n",
       "      <td>€172.1M</td>\n",
       "    </tr>\n",
       "    <tr>\n",
       "      <th>6</th>\n",
       "      <td>€67M</td>\n",
       "      <td>€420K</td>\n",
       "      <td>€137.4M</td>\n",
       "    </tr>\n",
       "  </tbody>\n",
       "</table>\n",
       "</div>"
      ],
      "text/plain": [
       "     Value   Wage Release Clause\n",
       "0  €110.5M  €565K        €226.5M\n",
       "1     €77M  €405K        €127.1M\n",
       "2  €118.5M  €290K        €228.1M\n",
       "5     €93M  €340K        €172.1M\n",
       "6     €67M  €420K        €137.4M"
      ]
     },
     "execution_count": 72,
     "metadata": {},
     "output_type": "execute_result"
    }
   ],
   "source": [
    "money_cols = ['Value','Wage', 'Release Clause']\n",
    "df[money_cols].head()"
   ]
  },
  {
   "cell_type": "markdown",
   "metadata": {
    "hidden": true
   },
   "source": [
    "3.1. Build a function which extracts the monetary value from a string. It should return a number with no decimals.   \n",
    "Your function should pass the three tests in the cell after"
   ]
  },
  {
   "cell_type": "code",
   "execution_count": 73,
   "metadata": {
    "code_folding": [
     0
    ],
    "hidden": true
   },
   "outputs": [],
   "source": [
    "def get_value(value_text):\n",
    "    \"\"\"Extract the monetary value from a string\n",
    "    \n",
    "    Parameters\n",
    "    ----------\n",
    "    value_text: str, (default=None)\n",
    "        a string containing a number ending with M, K or nothing\n",
    "        \n",
    "    Returns\n",
    "    -------\n",
    "    a float with no decimals\n",
    "    \n",
    "    Examples\n",
    "    --------\n",
    "    >>> get_value('€7.1K')\n",
    "    7100.0\n",
    "    \"\"\"\n",
    "    multiplier = value_text[-1]\n",
    "    if multiplier == 'M':\n",
    "        number = float(value_text[1:-1])\n",
    "        return number * 1000000\n",
    "    elif multiplier == 'K':\n",
    "        number = float(value_text[1:-1])\n",
    "        return number * 1000\n",
    "    else:\n",
    "        return float(value_text[1:])    "
   ]
  },
  {
   "cell_type": "code",
   "execution_count": 74,
   "metadata": {
    "hidden": true
   },
   "outputs": [],
   "source": [
    "# check if your answer is correct\n",
    "assert get_value('€110.5M') == 110500000; assert get_value('€7.1K') == 7100; assert get_value('€200') == 200"
   ]
  },
  {
   "cell_type": "markdown",
   "metadata": {
    "hidden": true
   },
   "source": [
    "3.2. Loop through `money_cols` and apply the defined function `get_value` to convert them to numeric"
   ]
  },
  {
   "cell_type": "code",
   "execution_count": 75,
   "metadata": {
    "hidden": true,
    "scrolled": false
   },
   "outputs": [
    {
     "name": "stdout",
     "output_type": "stream",
     "text": [
      "Value float64 0\n",
      "Wage float64 0\n",
      "Release Clause float64 0\n"
     ]
    }
   ],
   "source": [
    "for f in money_cols:\n",
    "    df[f] =df[f].apply(get_value)\n",
    "    print(f, df[f].dtype, df[f].isnull().sum())"
   ]
  },
  {
   "cell_type": "code",
   "execution_count": 76,
   "metadata": {
    "hidden": true
   },
   "outputs": [],
   "source": [
    "# check if your answer is correct\n",
    "assert df[money_cols].isnull().sum().sum() == 0"
   ]
  },
  {
   "cell_type": "markdown",
   "metadata": {
    "hidden": true
   },
   "source": [
    "### Height and Weight columns"
   ]
  },
  {
   "cell_type": "markdown",
   "metadata": {
    "hidden": true
   },
   "source": [
    "4.1. Start by printing the unique values for `Height`"
   ]
  },
  {
   "cell_type": "code",
   "execution_count": 77,
   "metadata": {
    "hidden": true
   },
   "outputs": [
    {
     "data": {
      "text/plain": [
       "array([\"5'7\", \"6'2\", \"5'9\", \"5'8\", \"6'0\", \"5'6\", \"5'10\", \"6'1\", \"5'4\",\n",
       "       \"5'11\", \"6'3\", \"6'4\", \"5'5\", \"6'6\", \"6'5\", \"5'3\", \"5'2\", \"6'7\",\n",
       "       \"5'1\", \"6'8\"], dtype=object)"
      ]
     },
     "execution_count": 77,
     "metadata": {},
     "output_type": "execute_result"
    }
   ],
   "source": [
    "# print unique values for Height\n",
    "df['Height'].unique()"
   ]
  },
  {
   "cell_type": "markdown",
   "metadata": {
    "hidden": true
   },
   "source": [
    "4.2. Write a function (`get_height`) which converts the Height from a string in feet to  a number in `cm` with no decimals.    \n",
    "1 feet = 30.48 cm. For example `get_height(\"5'10\")` = `155`"
   ]
  },
  {
   "cell_type": "code",
   "execution_count": 78,
   "metadata": {
    "hidden": true
   },
   "outputs": [],
   "source": [
    "def get_height(x):\n",
    "    return  round(float(x.replace(\"'\", \".\")) * 30.48, 0) "
   ]
  },
  {
   "cell_type": "code",
   "execution_count": 79,
   "metadata": {
    "hidden": true
   },
   "outputs": [],
   "source": [
    "# check if your answer is correct\n",
    "assert get_height(\"5'10\") == 155; assert get_height(\"6'8\") == 207"
   ]
  },
  {
   "cell_type": "markdown",
   "metadata": {
    "hidden": true
   },
   "source": [
    "Apply the previous defined function on `Height`"
   ]
  },
  {
   "cell_type": "code",
   "execution_count": 80,
   "metadata": {
    "hidden": true
   },
   "outputs": [],
   "source": [
    "df['Height'] = df['Height'].apply(get_height)"
   ]
  },
  {
   "cell_type": "code",
   "execution_count": 81,
   "metadata": {
    "hidden": true
   },
   "outputs": [],
   "source": [
    "# check if your answer is correct\n",
    "assert df['Height'].dtype == 'float64'; assert df['Height'].isnull().sum() == 0"
   ]
  },
  {
   "cell_type": "markdown",
   "metadata": {
    "hidden": true
   },
   "source": [
    "4.3. The same thing with `Weight`, print the unique values"
   ]
  },
  {
   "cell_type": "code",
   "execution_count": 82,
   "metadata": {
    "hidden": true
   },
   "outputs": [
    {
     "data": {
      "text/plain": [
       "array(['159lbs', '183lbs', '150lbs', '163lbs', '146lbs', '190lbs',\n",
       "       '181lbs', '176lbs', '168lbs', '172lbs', '148lbs', '165lbs',\n",
       "       '196lbs', '161lbs', '170lbs', '154lbs', '187lbs', '157lbs',\n",
       "       '185lbs', '130lbs', '174lbs', '203lbs', '207lbs', '134lbs',\n",
       "       '141lbs', '152lbs', '179lbs', '132lbs', '198lbs', '201lbs',\n",
       "       '209lbs', '214lbs', '143lbs', '192lbs', '137lbs', '194lbs',\n",
       "       '139lbs', '220lbs', '205lbs', '216lbs', '126lbs', '123lbs',\n",
       "       '128lbs', '223lbs', '212lbs', '121lbs', '115lbs', '218lbs',\n",
       "       '117lbs', '243lbs', '110lbs', '119lbs', '234lbs'], dtype=object)"
      ]
     },
     "execution_count": 82,
     "metadata": {},
     "output_type": "execute_result"
    }
   ],
   "source": [
    "# print unique values for Weight\n",
    "df['Weight'].unique()"
   ]
  },
  {
   "cell_type": "markdown",
   "metadata": {
    "hidden": true
   },
   "source": [
    "4.4. Write a function (`get_weight`) which converts the **Weight** from a string in `lbs` to a number in `kg` with no decimals.    \n",
    "1 lbs = 0.453592 kg. For example `get_weight(\"115lbs\")` = `52`"
   ]
  },
  {
   "cell_type": "code",
   "execution_count": 83,
   "metadata": {
    "hidden": true
   },
   "outputs": [],
   "source": [
    "def get_weight(x):\n",
    "    return  round(float(x.split('lbs')[0]) * 0.453592, 0)"
   ]
  },
  {
   "cell_type": "code",
   "execution_count": 84,
   "metadata": {
    "hidden": true
   },
   "outputs": [],
   "source": [
    "# check if your answer is correct\n",
    "assert get_weight(\"115lbs\") == 52; assert get_weight(\"234lbs\") == 106"
   ]
  },
  {
   "cell_type": "markdown",
   "metadata": {
    "hidden": true
   },
   "source": [
    "Apply the previous defined function on `Weight`"
   ]
  },
  {
   "cell_type": "code",
   "execution_count": 85,
   "metadata": {
    "hidden": true
   },
   "outputs": [],
   "source": [
    "df['Weight'] = df['Weight'].apply(get_weight)"
   ]
  },
  {
   "cell_type": "code",
   "execution_count": 86,
   "metadata": {
    "hidden": true
   },
   "outputs": [],
   "source": [
    "# check if your answer is correct\n",
    "assert df['Weight'].dtype == 'float64';# assert df['Weight'].isnull().sum() == 0"
   ]
  },
  {
   "cell_type": "markdown",
   "metadata": {},
   "source": [
    "## Convert text columns to numeric"
   ]
  },
  {
   "cell_type": "markdown",
   "metadata": {},
   "source": [
    "5.1. Identify non-numeric text columns in a list called `text_cols`"
   ]
  },
  {
   "cell_type": "code",
   "execution_count": 87,
   "metadata": {},
   "outputs": [
    {
     "name": "stdout",
     "output_type": "stream",
     "text": [
      "30\n"
     ]
    }
   ],
   "source": [
    "\n",
    "\n",
    "temp=df.select_dtypes(exclude='number')\n",
    "text_cols=list(temp.columns.values)\n",
    "        \n",
    "print(len(text_cols))"
   ]
  },
  {
   "cell_type": "markdown",
   "metadata": {},
   "source": [
    "5.2. Build a list named `cols_to_remove` containing columns from `text_cols`, if a column has a number of unique values greater than **10** (`> 10`)"
   ]
  },
  {
   "cell_type": "code",
   "execution_count": 88,
   "metadata": {},
   "outputs": [
    {
     "name": "stdout",
     "output_type": "stream",
     "text": [
      "27\n"
     ]
    }
   ],
   "source": [
    "cols_to_remove=list()\n",
    "for col in text_cols:\n",
    "    if(df[col].nunique()>10):\n",
    "        cols_to_remove.insert(0,col)\n",
    "        \n",
    "        \n",
    "print(len(cols_to_remove))"
   ]
  },
  {
   "cell_type": "markdown",
   "metadata": {},
   "source": [
    "remove `cols_to_remove` columns from `df` and print its shape"
   ]
  },
  {
   "cell_type": "code",
   "execution_count": 89,
   "metadata": {},
   "outputs": [
    {
     "data": {
      "text/plain": [
       "(14742, 50)"
      ]
     },
     "execution_count": 89,
     "metadata": {},
     "output_type": "execute_result"
    }
   ],
   "source": [
    "df=df.drop(cols_to_remove, axis=1)\n",
    "df.shape\n",
    "\n",
    "\n",
    "# your code here"
   ]
  },
  {
   "cell_type": "code",
   "execution_count": 90,
   "metadata": {},
   "outputs": [],
   "source": [
    "# check if your answer is correct\n",
    "assert df.shape == (14742, 50)"
   ]
  },
  {
   "cell_type": "markdown",
   "metadata": {},
   "source": [
    "5.3. Identify the remaining text columns in `text_cols` as `remaining_text_cols`, make sur it passes the test after"
   ]
  },
  {
   "cell_type": "code",
   "execution_count": 91,
   "metadata": {},
   "outputs": [
    {
     "name": "stdout",
     "output_type": "stream",
     "text": [
      "3\n"
     ]
    }
   ],
   "source": [
    "\n",
    "temp=df.select_dtypes(exclude='number')\n",
    "remaining_text_cols=list(temp.columns.values)\n",
    "print(len(remaining_text_cols))"
   ]
  },
  {
   "cell_type": "code",
   "execution_count": 92,
   "metadata": {},
   "outputs": [],
   "source": [
    "# check if your answer is correct\n",
    "assert remaining_text_cols == ['Preferred Foot', 'Work Rate', 'Body Type']"
   ]
  },
  {
   "cell_type": "markdown",
   "metadata": {},
   "source": [
    "5.4. Loop through `remaining_text_cols` and convert them to numerical values"
   ]
  },
  {
   "cell_type": "code",
   "execution_count": 93,
   "metadata": {},
   "outputs": [],
   "source": [
    "from sklearn.preprocessing import LabelEncoder\n",
    "for col1 in remaining_text_cols:\n",
    "    enc = LabelEncoder()\n",
    "    enc.fit(df[col1])\n",
    "    df[col1] = enc.transform(df[col1])"
   ]
  },
  {
   "cell_type": "code",
   "execution_count": 94,
   "metadata": {},
   "outputs": [
    {
     "data": {
      "text/plain": [
       "(14742, 50)"
      ]
     },
     "execution_count": 94,
     "metadata": {},
     "output_type": "execute_result"
    }
   ],
   "source": [
    "df.shape"
   ]
  },
  {
   "cell_type": "markdown",
   "metadata": {},
   "source": [
    "# Model building"
   ]
  },
  {
   "cell_type": "markdown",
   "metadata": {},
   "source": [
    "As stated before, you can do this part without completing the previous one"
   ]
  },
  {
   "cell_type": "markdown",
   "metadata": {},
   "source": [
    "6.1. Load the cleaned dataset `Assignment_2_data_cleaned.csv` into `df_clean` and print its shape.    "
   ]
  },
  {
   "cell_type": "code",
   "execution_count": 95,
   "metadata": {},
   "outputs": [],
   "source": [
    "df_clean=pd.read_csv(\"Assignment_2_data_cleaned.csv\")"
   ]
  },
  {
   "cell_type": "markdown",
   "metadata": {},
   "source": [
    "6.2. Load the target variable `Overall` into a dataframe and name it `y`. Then, load the features into a second dataframe and name it `X`. Plot a histogram of `y`, choose the number of bins as 100."
   ]
  },
  {
   "cell_type": "code",
   "execution_count": 96,
   "metadata": {},
   "outputs": [
    {
     "data": {
      "text/plain": [
       "'Done'"
      ]
     },
     "execution_count": 96,
     "metadata": {},
     "output_type": "execute_result"
    },
    {
     "data": {
      "image/png": "[encoded data removed]",
      "text/plain": [
       "<Figure size 432x288 with 1 Axes>"
      ]
     },
     "metadata": {
      "needs_background": "light"
     },
     "output_type": "display_data"
    }
   ],
   "source": [
    "y=pd.DataFrame({'column':df_clean['Overall']})\n",
    "\n",
    "temp=df_clean.copy()\n",
    "x=temp.drop(\"Overall\", axis= 1, inplace = False)\n",
    "def Overall(df, cols):    \n",
    "    import matplotlib.pyplot as plt\n",
    "    \n",
    "    \n",
    "    for col in cols:\n",
    "        fig = plt.figure(figsize=(6, 4))\n",
    "        fig.clf()\n",
    "        ax = fig.gca()\n",
    "        df[col].hist(bins = 100, ax = ax)\n",
    "        ax.set_xlabel(col)\n",
    "        ax.set_ylabel('Overall Score ')\n",
    "        ax.set_title('Overall Score ') \n",
    "    \n",
    "    return 'Done'\n",
    "\n",
    "cols=list(y.columns.values)\n",
    "\n",
    "Overall(y, cols)\n",
    "\n"
   ]
  },
  {
   "cell_type": "markdown",
   "metadata": {},
   "source": [
    "7. Split the data set into a training set and a test set. Choose `test_size` = 0.3 and `random_state` = 123  \n",
    "Print train and test size      \n",
    "**Attention**: You are asked to use  [`sklearn.model_selection`](https://scikit-learn.org/stable/modules/generated/sklearn.model_selection.train_test_split.html)"
   ]
  },
  {
   "cell_type": "code",
   "execution_count": 97,
   "metadata": {},
   "outputs": [
    {
     "name": "stdout",
     "output_type": "stream",
     "text": [
      "4423\n"
     ]
    }
   ],
   "source": [
    "# your code here\n",
    "from sklearn.model_selection import train_test_split\n",
    "X_train, X_test, y_train, y_test=train_test_split(x,y, test_size=0.3, random_state=123)\n",
    "print(len(y_test))"
   ]
  },
  {
   "cell_type": "markdown",
   "metadata": {},
   "source": [
    "8. Fit a linear model to the training set, and then report the training and testing errors obtained (the R2 statistic).   \n",
    "Calculate and print the following metrics: mse, rmse, mae for the test_set"
   ]
  },
  {
   "cell_type": "code",
   "execution_count": 98,
   "metadata": {},
   "outputs": [
    {
     "name": "stdout",
     "output_type": "stream",
     "text": [
      "train score = 0.9370091958866428\n",
      "test score = 0.9357188804643626\n",
      "R2 Score: 0.9357188804643625\n"
     ]
    }
   ],
   "source": [
    "# your code here\n",
    "from sklearn.linear_model import LinearRegression\n",
    "from sklearn.metrics import r2_score\n",
    "\n",
    "reg = LinearRegression()\n",
    "reg.fit(X_train, y_train)\n",
    "train_score = reg.score(X_train, y_train)\n",
    "test_score = reg.score(X_test, y_test)\n",
    "print  ('train score =' , train_score)\n",
    "print  ('test score = {}'.format(test_score))\n",
    "\n",
    "y_pred = reg.predict(X_test)  \n",
    "from sklearn import metrics  \n",
    "print(\"R2 Score:\",metrics.r2_score(y_test, y_pred))\n",
    "\n"
   ]
  },
  {
   "cell_type": "code",
   "execution_count": 99,
   "metadata": {},
   "outputs": [
    {
     "name": "stdout",
     "output_type": "stream",
     "text": [
      "Mean Absolute Error: 1.3561926132880475\n",
      "Mean Squared Error: 3.0074136037216577\n",
      "Root Mean Squared Error: 1.7341896100835277\n"
     ]
    }
   ],
   "source": [
    "# your code here\n",
    "print('Mean Absolute Error:', metrics.mean_absolute_error(y_test, y_pred))  \n",
    "print('Mean Squared Error:', metrics.mean_squared_error(y_test, y_pred))  \n",
    "print('Root Mean Squared Error:', np.sqrt(metrics.mean_squared_error(y_test, y_pred)))  \n"
   ]
  },
  {
   "cell_type": "markdown",
   "metadata": {},
   "source": [
    "### Check residuals"
   ]
  },
  {
   "cell_type": "markdown",
   "metadata": {},
   "source": [
    "9.1. Plot a histogram of the residuals (difference between `y_test` and `y_pred`"
   ]
  },
  {
   "cell_type": "code",
   "execution_count": 100,
   "metadata": {},
   "outputs": [
    {
     "data": {
      "image/png": "[encoded data removed]",
      "text/plain": [
       "<Figure size 576x432 with 1 Axes>"
      ]
     },
     "metadata": {
      "needs_background": "light"
     },
     "output_type": "display_data"
    }
   ],
   "source": [
    "# your code here\n",
    "import matplotlib.pyplot as plt\n",
    "histo=plt.figure(figsize=(8,6))\n",
    "histo.clf()\n",
    "ax=histo.gca()\n",
    "(y_pred-y_test).hist(bins=100,ax=ax)\n",
    "ax.set_ylabel(\"Density of Residuals\")\n",
    "ax.set_xlabel(\"Residual(Act Y- Pred Y\")\n",
    "plt.show()"
   ]
  },
  {
   "cell_type": "markdown",
   "metadata": {},
   "source": [
    "9.2. Plot a scatter plot where `y_test` is in the **x** axis and  `y_pred` is in the **y** axis"
   ]
  },
  {
   "cell_type": "code",
   "execution_count": 101,
   "metadata": {},
   "outputs": [
    {
     "data": {
      "text/plain": [
       "<matplotlib.collections.PathCollection at 0x19300ba0550>"
      ]
     },
     "execution_count": 101,
     "metadata": {},
     "output_type": "execute_result"
    },
    {
     "data": {
      "image/png": "[encoded data removed]",
      "text/plain": [
       "<Figure size 432x288 with 1 Axes>"
      ]
     },
     "metadata": {
      "needs_background": "light"
     },
     "output_type": "display_data"
    }
   ],
   "source": [
    "# your code here\n",
    "plt.scatter(y_test, y_pred)"
   ]
  },
  {
   "cell_type": "markdown",
   "metadata": {},
   "source": [
    "10. Try to improve the performance of your model, by adding new features"
   ]
  },
  {
   "cell_type": "code",
   "execution_count": 102,
   "metadata": {},
   "outputs": [
    {
     "name": "stdout",
     "output_type": "stream",
     "text": [
      "Index(['Age', 'Overall', 'Potential', 'Value', 'Wage', 'Special',\n",
      "       'Preferred Foot', 'International Reputation', 'Weak Foot',\n",
      "       'Skill Moves',\n",
      "       ...\n",
      "       '39+2', '37+2', '41+2', '38+2', '36+2', '34+2', '35+2', '31+2', '33+2',\n",
      "       '32+2'],\n",
      "      dtype='object', length=144)\n"
     ]
    }
   ],
   "source": [
    "df1 = pd.read_csv('Assignment_2_data.csv',index_col=0)\n",
    "for joined in df1[\"ST\"].unique():\n",
    "    col=str(joined)\n",
    "    df_clean[col]= (df1[\"ST\"] == joined).astype(\"int\")\n",
    "print (df_clean.columns)"
   ]
  },
  {
   "cell_type": "code",
   "execution_count": 103,
   "metadata": {},
   "outputs": [
    {
     "name": "stdout",
     "output_type": "stream",
     "text": [
      "X_train length = 10320,  y_train length = 10320\n",
      "X_test length = 4423,  y_test length = 4423\n"
     ]
    }
   ],
   "source": [
    "y = df_clean[\"Overall\"]\n",
    "x = df_clean.drop(\"Overall\", axis= 1, inplace = False)\n",
    "X_train, X_test, y_train, y_test = train_test_split(x, y, test_size=0.3, random_state=123)\n",
    "print('X_train length = %d,  y_train length = %d' %(len(X_train), len(y_train)))\n",
    "print('X_test length = %d,  y_test length = %d' %(len(X_test), len(y_test)))\n",
    "reg = LinearRegression()\n",
    "reg.fit(X_train, y_train)\n",
    "train_score = reg.score(X_train, y_train)\n",
    "test_score = reg.score(X_test, y_test)"
   ]
  },
  {
   "cell_type": "code",
   "execution_count": 105,
   "metadata": {},
   "outputs": [
    {
     "name": "stdout",
     "output_type": "stream",
     "text": [
      "train score = 0.9398196859479271\n",
      "test score = 0.9375108710911858\n",
      "R2 score = 0.9375108710911858\n"
     ]
    }
   ],
   "source": [
    "print('train score =' , train_score)\n",
    "print('test score = {}'.format(test_score))\n",
    "y_pred = reg.predict(X_test)\n",
    "r2 = r2_score(y_test, y_pred)\n",
    "print('R2 score =',r2)"
   ]
  },
  {
   "cell_type": "code",
   "execution_count": null,
   "metadata": {},
   "outputs": [],
   "source": []
  }
 ],
 "metadata": {
  "anaconda-cloud": {},
  "kernelspec": {
   "display_name": "Python 3",
   "language": "python",
   "name": "python3"
  },
  "language_info": {
   "codemirror_mode": {
    "name": "ipython",
    "version": 3
   },
   "file_extension": ".py",
   "mimetype": "text/x-python",
   "name": "python",
   "nbconvert_exporter": "python",
   "pygments_lexer": "ipython3",
   "version": "3.7.1"
  }
 },
 "nbformat": 4,
 "nbformat_minor": 2
}
